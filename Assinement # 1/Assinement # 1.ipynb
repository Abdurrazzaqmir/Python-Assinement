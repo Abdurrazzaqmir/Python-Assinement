{
 "cells": [
  {
   "cell_type": "code",
   "execution_count": 1,
   "id": "d25a729b",
   "metadata": {},
   "outputs": [
    {
     "ename": "SyntaxError",
     "evalue": "invalid syntax (Temp/ipykernel_13228/777117349.py, line 1)",
     "output_type": "error",
     "traceback": [
      "\u001b[1;36m  File \u001b[1;32m\"C:\\Users\\Maimoonah khaild\\AppData\\Local\\Temp/ipykernel_13228/777117349.py\"\u001b[1;36m, line \u001b[1;32m1\u001b[0m\n\u001b[1;33m    Twinkle twinkle little star,\u001b[0m\n\u001b[1;37m            ^\u001b[0m\n\u001b[1;31mSyntaxError\u001b[0m\u001b[1;31m:\u001b[0m invalid syntax\n"
     ]
    }
   ],
   "source": [
    "  Twinkle twinkle little star,\n",
    "    How i wounder what you are!\n",
    "      Up above the world so high,                              (Q # 1)\n",
    "         Like a diamond in the sky.\n",
    "  Twinkle twinkle little star,\n",
    "    How i wounder what you are"
   ]
  },
  {
   "cell_type": "code",
   "execution_count": 4,
   "id": "8e69cd82",
   "metadata": {},
   "outputs": [
    {
     "name": "stdout",
     "output_type": "stream",
     "text": [
      "python version\n",
      "3.9.7 (default, Sep 16 2021, 16:59:28) [MSC v.1916 64 bit (AMD64)]\n"
     ]
    }
   ],
   "source": [
    "import sys\n",
    "\n",
    "print(\"python version\")                                         (Q # 2)\n",
    "print(sys.version)"
   ]
  },
  {
   "cell_type": "code",
   "execution_count": 9,
   "id": "67d6a6d2",
   "metadata": {},
   "outputs": [
    {
     "name": "stdout",
     "output_type": "stream",
     "text": [
      "current date and time\n",
      "21-12-31 12: 33 32\n"
     ]
    }
   ],
   "source": [
    "import datetime\n",
    "\n",
    "now = datetime.datetime.now()                                    (Q # 3)\n",
    "print(\"current date and time\")\n",
    "print(now.strftime(\"%y-%m-%d %H: %M %S\"))"
   ]
  },
  {
   "cell_type": "code",
   "execution_count": 13,
   "id": "3c239dfc",
   "metadata": {},
   "outputs": [
    {
     "name": "stdout",
     "output_type": "stream",
     "text": [
      "enter the radius of circle = 3.4\n",
      "area of circle is :  36.316811075498\n"
     ]
    }
   ],
   "source": [
    "from math import pi \n",
    "\n",
    "r = float(input(\"enter the radius of circle = \"))                  (Q # 4)\n",
    "a = pi*r**2\n",
    "print(\"area of circle is : \",a)"
   ]
  },
  {
   "cell_type": "code",
   "execution_count": 16,
   "id": "1fa5848e",
   "metadata": {},
   "outputs": [
    {
     "name": "stdout",
     "output_type": "stream",
     "text": [
      "Ahmad Massod\n"
     ]
    }
   ],
   "source": [
    "a = \" Massod\";\n",
    "b = \"Ahmad\";\n",
    "c = b + a;                                                         (Q # 5)\n",
    "print(c);"
   ]
  },
  {
   "cell_type": "code",
   "execution_count": 17,
   "id": "a25e27ef",
   "metadata": {},
   "outputs": [
    {
     "name": "stdout",
     "output_type": "stream",
     "text": [
      "103\n"
     ]
    }
   ],
   "source": [
    "x = 45;\n",
    "y = 58;                                                            (Q # 6)\n",
    "z = x + y;\n",
    "print(z);"
   ]
  },
  {
   "cell_type": "code",
   "execution_count": null,
   "id": "d838c2c2",
   "metadata": {},
   "outputs": [],
   "source": [
    "                       Made by Abdurr-Razzaq Mir"
   ]
  }
 ],
 "metadata": {
  "kernelspec": {
   "display_name": "Python 3 (ipykernel)",
   "language": "python",
   "name": "python3"
  },
  "language_info": {
   "codemirror_mode": {
    "name": "ipython",
    "version": 3
   },
   "file_extension": ".py",
   "mimetype": "text/x-python",
   "name": "python",
   "nbconvert_exporter": "python",
   "pygments_lexer": "ipython3",
   "version": "3.9.7"
  }
 },
 "nbformat": 4,
 "nbformat_minor": 5
}
